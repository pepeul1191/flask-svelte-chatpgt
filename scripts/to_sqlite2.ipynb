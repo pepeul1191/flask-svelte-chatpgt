{
 "cells": [
  {
   "cell_type": "markdown",
   "metadata": {},
   "source": [
    "# Scripts para crear los archivos txt con los inserts"
   ]
  },
  {
   "cell_type": "markdown",
   "metadata": {},
   "source": [
    "Importanción de librerías:"
   ]
  },
  {
   "cell_type": "code",
   "execution_count": 2,
   "metadata": {},
   "outputs": [
    {
     "ename": "ModuleNotFoundError",
     "evalue": "No module named 'pandas'",
     "output_type": "error",
     "traceback": [
      "\u001b[0;31m---------------------------------------------------------------------------\u001b[0m",
      "\u001b[0;31mModuleNotFoundError\u001b[0m                       Traceback (most recent call last)",
      "Cell \u001b[0;32mIn[2], line 1\u001b[0m\n\u001b[0;32m----> 1\u001b[0m \u001b[38;5;28;01mimport\u001b[39;00m \u001b[38;5;21;01mpandas\u001b[39;00m \u001b[38;5;28;01mas\u001b[39;00m \u001b[38;5;21;01mpd\u001b[39;00m\n\u001b[1;32m      2\u001b[0m \u001b[38;5;28;01mimport\u001b[39;00m \u001b[38;5;21;01mnumpy\u001b[39;00m \u001b[38;5;28;01mas\u001b[39;00m \u001b[38;5;21;01mnp\u001b[39;00m\n\u001b[1;32m      3\u001b[0m \u001b[38;5;28;01mfrom\u001b[39;00m \u001b[38;5;21;01mitertools\u001b[39;00m \u001b[38;5;28;01mimport\u001b[39;00m chain\n",
      "\u001b[0;31mModuleNotFoundError\u001b[0m: No module named 'pandas'"
     ]
    }
   ],
   "source": [
    "import pandas as pd\n",
    "import numpy as np\n",
    "from itertools import chain\n",
    "from database import Database\n",
    "\n",
    "db1 = Database('../db/fifa25v2.db')\n",
    "db2 = Database('../db/fifa25v2.db')"
   ]
  },
  {
   "cell_type": "markdown",
   "metadata": {},
   "source": [
    "Ruta global y lectura de los datasets"
   ]
  },
  {
   "cell_type": "code",
   "execution_count": null,
   "metadata": {},
   "outputs": [
    {
     "name": "stderr",
     "output_type": "stream",
     "text": [
      "/tmp/ipykernel_11822/3131349356.py:4: DtypeWarning: Columns (33) have mixed types. Specify dtype option on import or set low_memory=False.\n",
      "  df_all = pd.read_csv(f'{BASE_PATH}all_players.csv', sep=',')\n"
     ]
    },
    {
     "data": {
      "text/plain": [
       "Index(['id', 'Rank', 'Name', 'OVR', 'PAC', 'SHO', 'PAS', 'DRI', 'DEF', 'PHY',\n",
       "       'Acceleration', 'Sprint Speed', 'Positioning', 'Finishing',\n",
       "       'Shot Power', 'Long Shots', 'Volleys', 'Penalties', 'Vision',\n",
       "       'Crossing', 'Free Kick Accuracy', 'Short Passing', 'Long Passing',\n",
       "       'Curve', 'Dribbling', 'Agility', 'Balance', 'Reactions', 'Ball Control',\n",
       "       'Composure', 'Interceptions', 'Heading Accuracy', 'Def Awareness',\n",
       "       'Standing Tackle', 'Sliding Tackle', 'Jumping', 'Stamina', 'Strength',\n",
       "       'Aggression', 'Position', 'Weak foot', 'Skill moves', 'Preferred foot',\n",
       "       'Height', 'Weight', 'Alternative positions', 'Age', 'Nation', 'League',\n",
       "       'Team', 'play style', 'url', 'GK Diving', 'GK Handling', 'GK Kicking',\n",
       "       'GK Positioning', 'GK Reflexes', 'Unnamed: 57'],\n",
       "      dtype='object')"
      ]
     },
     "execution_count": 19,
     "metadata": {},
     "output_type": "execute_result"
    }
   ],
   "source": [
    "BASE_PATH = './../docs/'\n",
    "df_females = pd.read_csv(f'{BASE_PATH}female_players.csv', sep=',')\n",
    "df_males = pd.read_csv(f'{BASE_PATH}male_players.csv', sep=',')\n",
    "df_all = pd.read_csv(f'{BASE_PATH}all_players.csv', sep=',')\n",
    "df_all.columns"
   ]
  },
  {
   "cell_type": "markdown",
   "metadata": {},
   "source": [
    "### Llenar Jugadores\n",
    "\n",
    "Vamos a leer los <b>teams</b> y los vamos a colocar en una lista. Esta lista no deberá incluir repetidos. Generar un .txt con los inserts con el contenido de la lista creada para usarlos en esta tabla.\n",
    "\n",
    "```sql\n",
    "CREATE TABLE players (\n",
    "  id\tINTEGER NOT NULL PRIMARY KEY AUTOINCREMENT, \n",
    "  rank INTEGER,\n",
    "  name VARCHAR(50),\n",
    "  overall INTEGER,\n",
    "  velocity INTEGER,\n",
    "  shooting INTEGER,\n",
    "  passing INTEGER,\n",
    "  dribbling INTEGER,\n",
    "  defending INTEGER,\n",
    "  physicality INTEGER,\n",
    "  position VARCHAR(50),\n",
    "  weak_foot INTEGER,\n",
    "  skill_moves INTEGER,\n",
    "  foot VARCHAR(50),\n",
    "  height INTEGER,\n",
    "  weight INTEGER,\n",
    "  alternative_positions VARCHAR(50),\n",
    "  age INTEGER,\n",
    "  nation VARCHAR(50),\n",
    "  league VARCHAR(50),\n",
    "  team VARCHAR(50),\n",
    "  play_styles VARCHAR(50),\n",
    "  url VARCHAR(120),\n",
    "  diving INTEGER,\n",
    "  handling INTEGER,\n",
    "  kicking INTEGER,\n",
    "  positioning INTEGER,\n",
    "  reflexes INTEGER,\n",
    "  sex VARCHAR(10)\n",
    ");\n",
    "```"
   ]
  },
  {
   "cell_type": "code",
   "execution_count": 5,
   "metadata": {},
   "outputs": [
    {
     "ename": "NameError",
     "evalue": "name 'df_males' is not defined",
     "output_type": "error",
     "traceback": [
      "\u001b[0;31m---------------------------------------------------------------------------\u001b[0m",
      "\u001b[0;31mNameError\u001b[0m                                 Traceback (most recent call last)",
      "Cell \u001b[0;32mIn[5], line 1\u001b[0m\n\u001b[0;32m----> 1\u001b[0m male_playes_data \u001b[38;5;241m=\u001b[39m \u001b[43mdf_males\u001b[49m[[\u001b[38;5;124m'\u001b[39m\u001b[38;5;124mName\u001b[39m\u001b[38;5;124m'\u001b[39m, \u001b[38;5;124m'\u001b[39m\u001b[38;5;124mRank\u001b[39m\u001b[38;5;124m'\u001b[39m, \u001b[38;5;124m'\u001b[39m\u001b[38;5;124mWeak foot\u001b[39m\u001b[38;5;124m'\u001b[39m, \u001b[38;5;124m'\u001b[39m\u001b[38;5;124mSkill moves\u001b[39m\u001b[38;5;124m'\u001b[39m, \u001b[38;5;124m'\u001b[39m\u001b[38;5;124mHeight\u001b[39m\u001b[38;5;124m'\u001b[39m, \u001b[38;5;124m'\u001b[39m\u001b[38;5;124mWeight\u001b[39m\u001b[38;5;124m'\u001b[39m, \u001b[38;5;124m'\u001b[39m\u001b[38;5;124murl\u001b[39m\u001b[38;5;124m'\u001b[39m, \u001b[38;5;124m'\u001b[39m\u001b[38;5;124mPreferred foot\u001b[39m\u001b[38;5;124m'\u001b[39m, \u001b[38;5;124m'\u001b[39m\u001b[38;5;124mPosition\u001b[39m\u001b[38;5;124m'\u001b[39m, \u001b[38;5;124m'\u001b[39m\u001b[38;5;124mNation\u001b[39m\u001b[38;5;124m'\u001b[39m, \u001b[38;5;124m'\u001b[39m\u001b[38;5;124mTeam\u001b[39m\u001b[38;5;124m'\u001b[39m, \u001b[38;5;124m'\u001b[39m\u001b[38;5;124mOVR\u001b[39m\u001b[38;5;124m'\u001b[39m, \u001b[38;5;124m'\u001b[39m\u001b[38;5;124mPAC\u001b[39m\u001b[38;5;124m'\u001b[39m, \u001b[38;5;124m'\u001b[39m\u001b[38;5;124mSHO\u001b[39m\u001b[38;5;124m'\u001b[39m, \u001b[38;5;124m'\u001b[39m\u001b[38;5;124mPAS\u001b[39m\u001b[38;5;124m'\u001b[39m, \u001b[38;5;124m'\u001b[39m\u001b[38;5;124mDRI\u001b[39m\u001b[38;5;124m'\u001b[39m, \u001b[38;5;124m'\u001b[39m\u001b[38;5;124mDEF\u001b[39m\u001b[38;5;124m'\u001b[39m, \u001b[38;5;124m'\u001b[39m\u001b[38;5;124mPHY\u001b[39m\u001b[38;5;124m'\u001b[39m, \u001b[38;5;124m'\u001b[39m\u001b[38;5;124mGK Diving\u001b[39m\u001b[38;5;124m'\u001b[39m, \u001b[38;5;124m'\u001b[39m\u001b[38;5;124mGK Handling\u001b[39m\u001b[38;5;124m'\u001b[39m, \u001b[38;5;124m'\u001b[39m\u001b[38;5;124mGK Kicking\u001b[39m\u001b[38;5;124m'\u001b[39m, \u001b[38;5;124m'\u001b[39m\u001b[38;5;124mGK Positioning\u001b[39m\u001b[38;5;124m'\u001b[39m, \u001b[38;5;124m'\u001b[39m\u001b[38;5;124mGK Reflexes\u001b[39m\u001b[38;5;124m'\u001b[39m, \u001b[38;5;124m'\u001b[39m\u001b[38;5;124mAge\u001b[39m\u001b[38;5;124m'\u001b[39m, \u001b[38;5;124m'\u001b[39m\u001b[38;5;124murl2\u001b[39m\u001b[38;5;124m'\u001b[39m, \u001b[38;5;124m'\u001b[39m\u001b[38;5;124mAlternative positions\u001b[39m\u001b[38;5;124m'\u001b[39m, \u001b[38;5;124m'\u001b[39m\u001b[38;5;124mLeague\u001b[39m\u001b[38;5;124m'\u001b[39m, \u001b[38;5;124m'\u001b[39m\u001b[38;5;124mplay style\u001b[39m\u001b[38;5;124m'\u001b[39m]]\u001b[38;5;241m.\u001b[39mto_numpy()\n\u001b[1;32m      2\u001b[0m female_playes_data \u001b[38;5;241m=\u001b[39m df_females[[\u001b[38;5;124m'\u001b[39m\u001b[38;5;124mName\u001b[39m\u001b[38;5;124m'\u001b[39m, \u001b[38;5;124m'\u001b[39m\u001b[38;5;124mRank\u001b[39m\u001b[38;5;124m'\u001b[39m, \u001b[38;5;124m'\u001b[39m\u001b[38;5;124mWeak foot\u001b[39m\u001b[38;5;124m'\u001b[39m, \u001b[38;5;124m'\u001b[39m\u001b[38;5;124mSkill moves\u001b[39m\u001b[38;5;124m'\u001b[39m, \u001b[38;5;124m'\u001b[39m\u001b[38;5;124mHeight\u001b[39m\u001b[38;5;124m'\u001b[39m, \u001b[38;5;124m'\u001b[39m\u001b[38;5;124mWeight\u001b[39m\u001b[38;5;124m'\u001b[39m, \u001b[38;5;124m'\u001b[39m\u001b[38;5;124murl\u001b[39m\u001b[38;5;124m'\u001b[39m, \u001b[38;5;124m'\u001b[39m\u001b[38;5;124mPreferred foot\u001b[39m\u001b[38;5;124m'\u001b[39m, \u001b[38;5;124m'\u001b[39m\u001b[38;5;124mPosition\u001b[39m\u001b[38;5;124m'\u001b[39m, \u001b[38;5;124m'\u001b[39m\u001b[38;5;124mNation\u001b[39m\u001b[38;5;124m'\u001b[39m, \u001b[38;5;124m'\u001b[39m\u001b[38;5;124mTeam\u001b[39m\u001b[38;5;124m'\u001b[39m, \u001b[38;5;124m'\u001b[39m\u001b[38;5;124mOVR\u001b[39m\u001b[38;5;124m'\u001b[39m, \u001b[38;5;124m'\u001b[39m\u001b[38;5;124mPAC\u001b[39m\u001b[38;5;124m'\u001b[39m, \u001b[38;5;124m'\u001b[39m\u001b[38;5;124mSHO\u001b[39m\u001b[38;5;124m'\u001b[39m, \u001b[38;5;124m'\u001b[39m\u001b[38;5;124mPAS\u001b[39m\u001b[38;5;124m'\u001b[39m, \u001b[38;5;124m'\u001b[39m\u001b[38;5;124mDRI\u001b[39m\u001b[38;5;124m'\u001b[39m, \u001b[38;5;124m'\u001b[39m\u001b[38;5;124mDEF\u001b[39m\u001b[38;5;124m'\u001b[39m, \u001b[38;5;124m'\u001b[39m\u001b[38;5;124mPHY\u001b[39m\u001b[38;5;124m'\u001b[39m, \u001b[38;5;124m'\u001b[39m\u001b[38;5;124mGK Diving\u001b[39m\u001b[38;5;124m'\u001b[39m, \u001b[38;5;124m'\u001b[39m\u001b[38;5;124mGK Handling\u001b[39m\u001b[38;5;124m'\u001b[39m, \u001b[38;5;124m'\u001b[39m\u001b[38;5;124mGK Kicking\u001b[39m\u001b[38;5;124m'\u001b[39m, \u001b[38;5;124m'\u001b[39m\u001b[38;5;124mGK Positioning\u001b[39m\u001b[38;5;124m'\u001b[39m, \u001b[38;5;124m'\u001b[39m\u001b[38;5;124mGK Reflexes\u001b[39m\u001b[38;5;124m'\u001b[39m, \u001b[38;5;124m'\u001b[39m\u001b[38;5;124mAge\u001b[39m\u001b[38;5;124m'\u001b[39m, \u001b[38;5;124m'\u001b[39m\u001b[38;5;124murl2\u001b[39m\u001b[38;5;124m'\u001b[39m, \u001b[38;5;124m'\u001b[39m\u001b[38;5;124mAlternative positions\u001b[39m\u001b[38;5;124m'\u001b[39m, \u001b[38;5;124m'\u001b[39m\u001b[38;5;124mLeague\u001b[39m\u001b[38;5;124m'\u001b[39m, \u001b[38;5;124m'\u001b[39m\u001b[38;5;124mplay style\u001b[39m\u001b[38;5;124m'\u001b[39m]]\u001b[38;5;241m.\u001b[39mto_numpy()\n\u001b[1;32m      4\u001b[0m text_players \u001b[38;5;241m=\u001b[39m \u001b[38;5;124m'\u001b[39m\u001b[38;5;124m-- migrate:up \u001b[39m\u001b[38;5;130;01m\\n\u001b[39;00m\u001b[38;5;130;01m\\n\u001b[39;00m\u001b[38;5;124m'\u001b[39m\n",
      "\u001b[0;31mNameError\u001b[0m: name 'df_males' is not defined"
     ]
    }
   ],
   "source": [
    "male_playes_data = df_males[['Name', 'Rank', 'Weak foot', 'Skill moves', 'Height', 'Weight', 'url', 'Preferred foot', 'Position', 'Nation', 'Team', 'OVR', 'PAC', 'SHO', 'PAS', 'DRI', 'DEF', 'PHY', 'GK Diving', 'GK Handling', 'GK Kicking', 'GK Positioning', 'GK Reflexes', 'Age', 'url2', 'Alternative positions', 'League', 'play style']].to_numpy()\n",
    "female_playes_data = df_females[['Name', 'Rank', 'Weak foot', 'Skill moves', 'Height', 'Weight', 'url', 'Preferred foot', 'Position', 'Nation', 'Team', 'OVR', 'PAC', 'SHO', 'PAS', 'DRI', 'DEF', 'PHY', 'GK Diving', 'GK Handling', 'GK Kicking', 'GK Positioning', 'GK Reflexes', 'Age', 'url2', 'Alternative positions', 'League', 'play style']].to_numpy()\n",
    "\n",
    "text_players = '-- migrate:up \\n\\n'\n",
    "id = 0\n",
    "# fill males\n",
    "for player in male_playes_data:\n",
    "  # player data\n",
    "  id = id + 1\n",
    "  name = player[0].replace(\"'\", \"''\")\n",
    "  rank = player[1]\n",
    "  weak_foot = player[2]\n",
    "  skill_moves = player[3]\n",
    "  height = player[4].split(' / ')[0][:-2]\n",
    "  weight = player[5].split(' / ')[0][:-2]\n",
    "  url = player[6] + player[24]\n",
    "  foot = player[7]\n",
    "  sex = 'Hombre'\n",
    "  alternative_positions = 'NULL' if player[25] == 'nan' else f\"'{player[25]}'\"\n",
    "  position = player[8]\n",
    "  nation = player[9].replace(\"'\", \"''\")\n",
    "  team = player[10].replace(\"'\", \"''\")\n",
    "  age = player[23]\n",
    "  league = player[26].replace(\"'\", \"''\")\n",
    "  play_styles = (\"'\" + player[27] + \"'\") if player[27] == 'nan' else 'NULL'\n",
    "  # common data\n",
    "  overall = player[11]\n",
    "  velocity = player[12] # PAC = velocidad\n",
    "  shooting = player[13]\n",
    "  passing = player[14]\n",
    "  dribbling = player[15]\n",
    "  defending = player[16]\n",
    "  physicality = player[17]\n",
    "  # gk data\n",
    "  diving = player[18]\n",
    "  handling = player[19]\n",
    "  kicking = player[20]\n",
    "  positioning = player[21]\n",
    "  reflexes = player[22]\n",
    "  # position_id\n",
    "  # nombre del pais de la liga\n",
    "  rs = db1.fetchone(f\"\"\"\n",
    "    SELECT NA.name AS nation\n",
    "    FROM players PL \n",
    "    INNER JOIN teams TE ON PL.team_id = TE.id \n",
    "    INNER JOIN leagues LE ON TE.league_id = LE.id \n",
    "    INNER JOIN nations NA ON NA.id = LE.nation_id\n",
    "    WHERE PL.id = {id}\n",
    "  \"\"\")\n",
    "  nation_league = rs['nation']\n",
    "  tmp = f\"INSERT INTO players (id, name, rank, weak_foot, skill_moves, height, weight, url, foot, sex, alternative_positions, position, nation, team, age, league, nation_league, play_styles, overall, velocity, shooting, passing, dribbling, defending, physicality, diving, handling, kicking, positioning, reflexes) VALUES (  {id}, '{name}', {rank}, {weak_foot}, {skill_moves}, {height}, {weight}, '{url}', '{foot}', '{sex}', {alternative_positions}, '{position}', '{nation}', '{team}', {age}, '{league}', '{nation_league}', {play_styles}, {overall}, {velocity}, {shooting}, {passing}, {dribbling}, {defending}, {physicality}, {diving}, {handling}, {kicking}, {positioning}, {reflexes});\\n\"\n",
    "  tmp = tmp.replace(\"nan, nan, nan, nan, nan\", \"NULL, NULL, NULL, NULL, NULL\")\n",
    "  text_players += tmp\n",
    "  # +++++++++++++++++++++++++++++++++++++++++++++++++++++++++++++\n",
    "# fill females\n",
    "# fill males\n",
    "for player in female_playes_data:\n",
    "  # player data\n",
    "  id = id + 1\n",
    "  name = player[0].replace(\"'\", \"''\")\n",
    "  rank = player[1]\n",
    "  weak_foot = player[2]\n",
    "  skill_moves = player[3]\n",
    "  height = player[4].split(' / ')[0][:-2]\n",
    "  weight = player[5].split(' / ')[0][:-2]\n",
    "  url = player[6] + player[24]\n",
    "  foot = player[7]\n",
    "  sex = 'Mujer'\n",
    "  alternative_positions = 'NULL' if player[25] == 'nan' else f\"'{player[25]}'\"\n",
    "  position = player[8]\n",
    "  nation = player[9].replace(\"'\", \"''\")\n",
    "  team = player[10].replace(\"'\", \"''\")\n",
    "  age = player[23]\n",
    "  league = player[26].replace(\"'\", \"''\")\n",
    "  play_styles = (\"'\" + player[27] + \"'\") if player[27] == 'nan' else 'NULL'\n",
    "  # common data\n",
    "  overall = player[11]\n",
    "  velocity = player[12] # PAC = velocidad\n",
    "  shooting = player[13]\n",
    "  passing = player[14]\n",
    "  dribbling = player[15]\n",
    "  defending = player[16]\n",
    "  physicality = player[17]\n",
    "  # gk data\n",
    "  diving = player[18]\n",
    "  handling = player[19]\n",
    "  kicking = player[20]\n",
    "  positioning = player[21]\n",
    "  reflexes = player[22]\n",
    "  # nombre del pais de la liga\n",
    "  rs = db1.fetchone(f\"\"\"\n",
    "    SELECT NA.name AS nation\n",
    "    FROM players PL \n",
    "    INNER JOIN teams TE ON PL.team_id = TE.id \n",
    "    INNER JOIN leagues LE ON TE.league_id = LE.id \n",
    "    INNER JOIN nations NA ON NA.id = LE.nation_id\n",
    "    WHERE PL.id = {id}\n",
    "  \"\"\")\n",
    "  nation_league = rs['nation']\n",
    "  tmp = f\"INSERT INTO players (id, name, rank, weak_foot, skill_moves, height, weight, url, foot, sex, alternative_positions, position, nation, team, age, league, nation_league, play_styles, overall, velocity, shooting, passing, dribbling, defending, physicality, diving, handling, kicking, positioning, reflexes) VALUES (  {id}, '{name}', {rank}, {weak_foot}, {skill_moves}, {height}, {weight}, '{url}', '{foot}', '{sex}', {alternative_positions}, '{position}', '{nation}', '{team}', {age}, '{league}', '{nation_league}', {play_styles}, {overall}, {velocity}, {shooting}, {passing}, {dribbling}, {defending}, {physicality}, {diving}, {handling}, {kicking}, {positioning}, {reflexes});\\n\"\n",
    "  tmp = tmp.replace(\"nan, nan, nan, nan, nan\", \"NULL, NULL, NULL, NULL, NULL\")\n",
    "  text_players += tmp\n",
    "\n",
    "  # +++++++++++++++++++++++++++++++++++++++++++++++++++++++++++++\n",
    "# write male an female\n",
    "text_players = text_players + \"UPDATE players SET alternative_positions = NULL WHERE alternative_positions = 'nan';\\n-- migrate:down \\n\\nDELETE FROM players;\"\n",
    "with open(f'{BASE_PATH}players2_inserts.sql', 'w', encoding='utf-8') as archivo:\n",
    "    archivo.write(text_players)"
   ]
  }
 ],
 "metadata": {
  "kernelspec": {
   "display_name": "Python 3 (ipykernel)",
   "language": "python",
   "name": "python3"
  },
  "language_info": {
   "codemirror_mode": {
    "name": "ipython",
    "version": 3
   },
   "file_extension": ".py",
   "mimetype": "text/x-python",
   "name": "python",
   "nbconvert_exporter": "python",
   "pygments_lexer": "ipython3",
   "version": "3.10.12"
  }
 },
 "nbformat": 4,
 "nbformat_minor": 2
}
